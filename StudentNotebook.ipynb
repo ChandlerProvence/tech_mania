{
 "cells": [
  {
   "cell_type": "markdown",
   "id": "fe0d90d3",
   "metadata": {},
   "source": [
    "#  <span style=\"color:#0b186c;\">Introduction to Deep Learning</span>\n",
    "\n",
    "---\n",
    "\n",
    "“Deep learning is a subset of machine learning that's based on artificial neural networks. The learning process is deep because the structure of artificial neural networks consists of multiple input, output, and hidden layers. Each layer contains units that transform the input data into information that the next layer can use for a certain predictive task. Thanks to this structure, a machine can learn through its own data processing.” - Microsoft, 2022\n",
    "\n",
    "## <span style=\"color:#0b186c;\">Table of Contents:</span>\n",
    "* [Artificial Neural Networks (ANNs)](#first-bullet)\n",
    "* [Dataset Information](#second-bullet)\n",
    "* [Sequential Model](#third-bullet)\n",
    "* [Conclusion](#fourth-bullet)\n",
    "\n"
   ]
  },
  {
   "cell_type": "markdown",
   "id": "c7ba4be1",
   "metadata": {},
   "source": [
    "#  <span style=\"color:#0b186c;\">Artificial Neural Networks (ANNs)</span><a class=\"anchor\" id=\"first-bullet\"></a>\n",
    "\n",
    "---\n",
    "\n",
    "Artificial Neural Networks (ANNs) are composed of artificial neurons, or nodes, that mimic the learning paths of the human brain. The ANN can contain any number of neurons organized in the form of any number of interconnected layers. The first layer, the input layer, contains nodes representing the features in the dataset used to train the model. The final layer, or output layer, indicates the dimentionality of the target variable. The layers between the input and output are hidden layers containing connections modeled as weights, which represent the neuron's interpretation of feature importance in predicting the output value. ANNs also use Bias, a constant parameter which helps adjust the weighted sum of the inputs to the neuron for the best fit on the data. Lastly, Activation Functions are non-linear transformations that define the output of a neuron before sending it to the next layer of neurons or finalizing the output determination of the model.\n",
    "\n",
    "There are many different libraries associated with Deep Learning in Python, however, PyTorch and Tensorflow are two of the most common open-source frameworks used to create Neural Networks. While Tensorflow is an end-to-end open-source library for ML and DL, interfacing is accomplished through a library called Keras. There are 2 primary ways to create a Keras model:\n",
    "\n",
    "- The Functional API, which is the easy-to-use, fully-featured API supporting arbitrary model architectures.\n",
    "- The Sequential model, which is a limited single-input, single-output stack of layers (ordered sequentially).\n",
    "\n",
    "\n",
    "## <span style=\"color:#0b186c;\">Required Imports:</span>"
   ]
  },
  {
   "cell_type": "code",
   "execution_count": null,
   "id": "5abc33fb",
   "metadata": {},
   "outputs": [],
   "source": [
    "# Dataframe and array libraries\n",
    "import pandas as pd\n",
    "import numpy as np\n",
    "\n",
    "# Libraries for visualizing data\n",
    "import matplotlib.pyplot as plt\n",
    "import seaborn as sns\n",
    "\n",
    "# Retrieves the dataset from Scikit-learn\n",
    "from sklearn.datasets import load_iris\n",
    "\n",
    "# Required for training and validating a model\n",
    "from sklearn.model_selection import train_test_split\n",
    "\n",
    "# Required for instantiating and building Sequential neural networks\n",
    "import tensorflow as tf\n",
    "from tensorflow import keras\n",
    "\n",
    "# Filters out warning messages\n",
    "import warnings\n",
    "warnings.filterwarnings('ignore')"
   ]
  },
  {
   "cell_type": "markdown",
   "id": "12942605",
   "metadata": {},
   "source": [
    "#  <span style=\"color:#0b186c;\">Dataset Information</span><a class=\"anchor\" id=\"second-bullet\"></a>\n",
    "\n",
    "---\n",
    "\n",
    "We will be using a dataset containing 3 species in the Iris genus, namely, Iris Setosa, Iris Versicolor and Iris Virginica found in the Gaspé Peninsula. For the purposes of an integral study, the collected Iris samples were, \"all from the same pasture, and picked on the same day and measured at the same time by the same person with the same apparatus.\" The dataset contains 150 rows of data, 50 rows of data for each species of Iris flower. The column names represent the feature of the flower that was studied and recorded.\n",
    "\n",
    "Our target dataset can be found in the Scikit-learn library, so we will be importing it directly from the library and storing it into a Pandas dataframe.\n",
    "\n",
    "https://scikit-learn.org/stable/auto_examples/datasets/plot_iris_dataset.html"
   ]
  },
  {
   "cell_type": "code",
   "execution_count": null,
   "id": "dd12616e",
   "metadata": {},
   "outputs": [],
   "source": [
    "# Import the iris dataset\n",
    "iris = load_iris(as_frame=True)\n",
    "\n",
    "# Place the dataset into a dataframe\n",
    "df = iris.frame \n",
    "\n",
    "# View the first 5 records in the dataset\n",
    "df.head()"
   ]
  },
  {
   "cell_type": "code",
   "execution_count": null,
   "id": "a6bb14e6",
   "metadata": {},
   "outputs": [],
   "source": [
    "# Create a pie chart for the target variable\n",
    "df.target.value_counts().plot(kind='pie', figsize=(8, 8), fontsize=10, autopct='%1.0f%%')\n",
    "plt.title(\"Target Variable Distribution\", fontsize = 20)\n",
    "plt.show()"
   ]
  },
  {
   "cell_type": "code",
   "execution_count": null,
   "id": "482bb968",
   "metadata": {},
   "outputs": [],
   "source": [
    "# Set the figure size\n",
    "sns.set(rc={'figure.figsize':(12,8),'ytick.labelsize':(12)})\n",
    "\n",
    "# Create a pairplot\n",
    "sns.pairplot(df, hue = \"target\", palette = \"Set2\")"
   ]
  },
  {
   "cell_type": "code",
   "execution_count": null,
   "id": "bc59f20b",
   "metadata": {},
   "outputs": [],
   "source": [
    "# Split the independent (X) and dependent (y) variables\n",
    "X = df.iloc[:, :-1]\n",
    "y = df.iloc[:, -1].values\n",
    "\n",
    "# Split the data into an 80/20 distribution\n",
    "X_train, X_test, y_train, y_test = train_test_split(X, y, test_size = 0.2)\n",
    "\n",
    "X_train.shape"
   ]
  },
  {
   "cell_type": "markdown",
   "id": "4d4feef8",
   "metadata": {},
   "source": [
    "#  <span style=\"color:#0b186c;\">Sequential Model</span><a class=\"anchor\" id=\"fifth-bullet\"></a>\n",
    "\n",
    "---\n",
    "\n",
    "Neural networks learn how to appropriately weight the feature importance of input variables to be mapped to an output through an iterative learning process. The mathematical relationship between the various input variables and the output variable is approximated by the neural network model and is used to make predictions on future values. The simplest form of a Neural Network is a single neuron with only one interconnected layer. In Keras, the word for a simple, interconnected layer is `Dense`. "
   ]
  },
  {
   "cell_type": "code",
   "execution_count": null,
   "id": "fc155d3f",
   "metadata": {},
   "outputs": [],
   "source": [
    "# Build Sequential model using Dense layers\n",
    "model = tf.keras.models.Sequential([keras.layers.InputLayer(input_shape=[4]),\n",
    "                                    \n",
    "                                    keras.layers.Dense(3, activation=tf.nn.softmax)])\n",
    "\n",
    "model.summary()"
   ]
  },
  {
   "cell_type": "markdown",
   "id": "931c4061",
   "metadata": {},
   "source": [
    "<div class=\"alert alert-warning\">\n",
    "\n",
    "Since we are using an activation function in our output layer, we must also change the `optimizer` and `loss` functions to appropriately reflect the change in our model's iterative learning process. \n",
    "\n",
    "</div>"
   ]
  },
  {
   "cell_type": "code",
   "execution_count": null,
   "id": "f1c0be54",
   "metadata": {},
   "outputs": [],
   "source": [
    "# Compile the model with appropriate optimizer and loss functions\n",
    "model.compile(optimizer='adam', loss='sparse_categorical_crossentropy', metrics=['accuracy'])\n",
    "\n",
    "# Train the neural network on 100 epochs\n",
    "model.fit(X_train, y_train, epochs=100)"
   ]
  },
  {
   "cell_type": "code",
   "execution_count": null,
   "id": "6a11007f",
   "metadata": {},
   "outputs": [],
   "source": [
    "# Make predictions of y_test based on X_test, view probabilities output\n",
    "y_pred = model.predict(X_test)\n",
    "y_pred"
   ]
  },
  {
   "cell_type": "code",
   "execution_count": null,
   "id": "3d5286f8",
   "metadata": {},
   "outputs": [],
   "source": [
    "# Convert probabilities to labels, compare with true values\n",
    "y_pred = np.argmax(y_pred, axis=-1)\n",
    "y_pred"
   ]
  },
  {
   "cell_type": "code",
   "execution_count": null,
   "id": "0aa3b3c1",
   "metadata": {},
   "outputs": [],
   "source": [
    "# Calculate the accuracy score of the test set\n",
    "score = round((accuracy_score(y_test, y_pred) * 100), 2)\n",
    "\n",
    "# Print the accuracy score on the validation data\n",
    "print(f\"Accuracy = {score}%\")"
   ]
  },
  {
   "cell_type": "markdown",
   "id": "06da3bc4",
   "metadata": {},
   "source": [
    "#  <span style=\"color:#0b186c;\">Conclusion</span><a class=\"anchor\" id=\"sixth-bullet\"></a>\n",
    "\n",
    "---"
   ]
  }
 ],
 "metadata": {
  "kernelspec": {
   "display_name": "Python 3 (ipykernel)",
   "language": "python",
   "name": "python3"
  },
  "language_info": {
   "codemirror_mode": {
    "name": "ipython",
    "version": 3
   },
   "file_extension": ".py",
   "mimetype": "text/x-python",
   "name": "python",
   "nbconvert_exporter": "python",
   "pygments_lexer": "ipython3",
   "version": "3.9.12"
  }
 },
 "nbformat": 4,
 "nbformat_minor": 5
}
